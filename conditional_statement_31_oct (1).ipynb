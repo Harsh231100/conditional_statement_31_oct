{
 "cells": [
  {
   "cell_type": "markdown",
   "id": "6f1388e7",
   "metadata": {},
   "source": [
    "### 1. Write a Python program that asks the user for their age and prints \"You are an adult\" if the age is 18 or older, otherwise prints \"You are a minor''."
   ]
  },
  {
   "cell_type": "code",
   "execution_count": 3,
   "id": "fedae073",
   "metadata": {},
   "outputs": [
    {
     "name": "stdout",
     "output_type": "stream",
     "text": [
      "enter your age: 20\n",
      "You are an adult\n"
     ]
    }
   ],
   "source": [
    "x = int(input('enter your age: '))\n",
    "\n",
    "if x >= 18:                        #if we give age value greater than or equal to 18 it will give \"You are an adult\"\n",
    "    print(\"You are an adult\")\n",
    "else:                              #if we give age value less than 18 it will give \"You are a minor\"\n",
    "    print(\"You are a minor\")"
   ]
  },
  {
   "cell_type": "code",
   "execution_count": 4,
   "id": "3bedd654",
   "metadata": {},
   "outputs": [
    {
     "name": "stdout",
     "output_type": "stream",
     "text": [
      "enter your age: 11\n",
      "You are a minor\n"
     ]
    }
   ],
   "source": [
    "x = int(input('enter your age: '))\n",
    "\n",
    "if x >= 18:                        #if we give age value greater than or equal to 18 it will give \"You are an adult\"\n",
    "    print(\"You are an adult\")\n",
    "else:                              #if we give age value less than 18 it will give \"You are a minor\"\n",
    "    print(\"You are a minor\")"
   ]
  },
  {
   "cell_type": "markdown",
   "id": "d00a487b",
   "metadata": {},
   "source": [
    "### 2. Write a program that takes a numerical grade (out of 100) as input and prints the corresponding letter grade according to the following scale:\n",
    "* **90-100: A**\n",
    "* **80-89: B**\n",
    "* **70-79: C**\n",
    "* **60-69: D**\n",
    "* **Below 60: F**\n"
   ]
  },
  {
   "cell_type": "code",
   "execution_count": 42,
   "id": "a5223e38",
   "metadata": {},
   "outputs": [
    {
     "name": "stdout",
     "output_type": "stream",
     "text": [
      "enter your marks : 82\n",
      "B\n"
     ]
    }
   ],
   "source": [
    "x = int(input('enter your marks : '))\n",
    "\n",
    "if x in range(90,101):                 # if (90-100) it give return value A\n",
    "    print('A')\n",
    "elif x in range(80,90):                # if (80-89) it give return value B\n",
    "    print('B')\n",
    "elif x in range(70,80):                # if (70-79) it give return value c\n",
    "    print('C')\n",
    "elif x in range(60,70):                # if (60-69) it give return value D\n",
    "    print('D')\n",
    "elif x in range(0,60):                 # if (below 60) it give return value F\n",
    "    print('F')\n",
    "else :\n",
    "    print('invalid')                   # if the value is less than 0 or greater than 100 it give invalid"
   ]
  },
  {
   "cell_type": "code",
   "execution_count": 43,
   "id": "e450d7b7",
   "metadata": {},
   "outputs": [
    {
     "name": "stdout",
     "output_type": "stream",
     "text": [
      "enter your marks : 55\n",
      "F\n"
     ]
    }
   ],
   "source": [
    "x = int(input('enter your marks : '))\n",
    "\n",
    "if x in range(90,101):                 # if (90-100) it give return value A\n",
    "    print('A')\n",
    "elif x in range(80,90):                # if (80-89) it give return value B\n",
    "    print('B')\n",
    "elif x in range(70,80):                # if (70-79) it give return value c\n",
    "    print('C')\n",
    "elif x in range(60,70):                # if (60-69) it give return value D\n",
    "    print('D')\n",
    "elif x in range(0,60):                 # if (below 60) it give return value F\n",
    "    print('F')\n",
    "else :\n",
    "    print('invalid')                   # if the value is less than 0 or greater than 100 it give invalid"
   ]
  },
  {
   "cell_type": "code",
   "execution_count": 44,
   "id": "2eab7e8a",
   "metadata": {},
   "outputs": [
    {
     "name": "stdout",
     "output_type": "stream",
     "text": [
      "enter your marks : 101\n",
      "invalid\n"
     ]
    }
   ],
   "source": [
    "x = int(input('enter your marks : '))\n",
    "\n",
    "if x in range(90,101):                 # if (90-100) it give return value A\n",
    "    print('A')\n",
    "elif x in range(80,90):                # if (80-89) it give return value B\n",
    "    print('B')\n",
    "elif x in range(70,80):                # if (70-79) it give return value c\n",
    "    print('C')\n",
    "elif x in range(60,70):                # if (60-69) it give return value D\n",
    "    print('D')\n",
    "elif x in range(0,60):                 # if (below 60) it give return value F\n",
    "    print('F')\n",
    "else :\n",
    "    print('invalid')                   # if the value is less than 0 or greater than 100 it give invalid"
   ]
  },
  {
   "cell_type": "markdown",
   "id": "ab370a80",
   "metadata": {},
   "source": [
    "### 4. Write a program that asks the user for three numbers and prints the maximum of the three."
   ]
  },
  {
   "cell_type": "code",
   "execution_count": 18,
   "id": "a1206585",
   "metadata": {},
   "outputs": [
    {
     "name": "stdout",
     "output_type": "stream",
     "text": [
      "Enter value of x: 45\n",
      "Enter value of y: 62\n",
      "Enter value of z: 11\n",
      "Value of y is maximum\n"
     ]
    }
   ],
   "source": [
    "x = int(input('Enter value of x: '))\n",
    "y = int(input('Enter value of y: '))\n",
    "z = int(input('Enter value of z: '))\n",
    "\n",
    "if x>y and x>z:                                   # if 1st value is greater than 2nd or 3rd , it gives 1st value is max.\n",
    "    print('Value of x is maximum')\n",
    "elif y>x and y>z:                                 # if 2nd value is greater than 1st or 3rd , it gives 2st value is max.\n",
    "    print('Value of y is maximum')\n",
    "else:                                             # if all the given statement is false then the 3rd value will max.\n",
    "    print('Value of z is maximum')"
   ]
  },
  {
   "cell_type": "code",
   "execution_count": 19,
   "id": "2d84a260",
   "metadata": {},
   "outputs": [
    {
     "name": "stdout",
     "output_type": "stream",
     "text": [
      "Enter value of x: 910\n",
      "Enter value of y: 658\n",
      "Enter value of z: 152\n",
      "Value of x is maximum\n"
     ]
    }
   ],
   "source": [
    "x = int(input('Enter value of x: '))\n",
    "y = int(input('Enter value of y: '))\n",
    "z = int(input('Enter value of z: '))\n",
    "\n",
    "if x>y and x>z:                                   # if 1st value is greater than 2nd or 3rd , it gives 1st value is max.\n",
    "    print('Value of x is maximum')\n",
    "elif y>x and y>z:                                 # if 2nd value is greater than 1st or 3rd , it gives 2st value is max.\n",
    "    print('Value of y is maximum')\n",
    "else:                                             # if all the given statement is false then the 3rd value will max.\n",
    "    print('Value of z is maximum')"
   ]
  },
  {
   "cell_type": "markdown",
   "id": "c6100f4d",
   "metadata": {},
   "source": [
    "### 5. Write a program that asks the user for a temperature (in Celsius) and prints \"It's freezing\" if the temperature is below 0, \"It's cool\" if it's between 0 and 10, \"It's warm\" if it's between 10 and 20, and \"It's hot\" if it's above 20\n"
   ]
  },
  {
   "cell_type": "code",
   "execution_count": 32,
   "id": "3fc8ee46",
   "metadata": {},
   "outputs": [
    {
     "name": "stdout",
     "output_type": "stream",
     "text": [
      "Enter the temperature: -10\n",
      "It's freezing\n"
     ]
    }
   ],
   "source": [
    "x = int(input('Enter the temperature: '))\n",
    "\n",
    "if x<0:                                 #if we give less than 0 value ,it gives \"It's freezing\"\n",
    "    print(\"It's freezing\")\n",
    "elif x in range(0,11):                  #if we give between 0 and 10 value ,it gives \"It's cool\"\n",
    "    print(\"It's cool\")\n",
    "elif x in range(10,21):                 #if we give  between 10 and 20 value ,it gives \"It's warm\"\n",
    "    print(\"It's warm\")\n",
    "else:                                   #if we give above 20 value ,it gives \"It's hot\"\n",
    "    print(\"It's hot\")"
   ]
  },
  {
   "cell_type": "code",
   "execution_count": 33,
   "id": "b07ba6b1",
   "metadata": {},
   "outputs": [
    {
     "name": "stdout",
     "output_type": "stream",
     "text": [
      "Enter the temperature: 13\n",
      "It's warm\n"
     ]
    }
   ],
   "source": [
    "x = int(input('Enter the temperature: '))\n",
    "\n",
    "if x<0:                                 #if we give less than 0 value ,it gives \"It's freezing\"\n",
    "    print(\"It's freezing\")\n",
    "elif x in range(0,11):                  #if we give between 0 and 10 value ,it gives \"It's cool\"\n",
    "    print(\"It's cool\")\n",
    "elif x in range(10,21):                 #if we give  between 10 and 20 value ,it gives \"It's warm\"\n",
    "    print(\"It's warm\")\n",
    "else:                                   #if we give above 20 value ,it gives \"It's hot\"\n",
    "    print(\"It's hot\")"
   ]
  },
  {
   "cell_type": "markdown",
   "id": "e27d7ee0",
   "metadata": {},
   "source": [
    "### 6. Write a program that asks the user for a number (1-7) and prints the corresponding day of the week."
   ]
  },
  {
   "cell_type": "code",
   "execution_count": 50,
   "id": "d6e25e57",
   "metadata": {},
   "outputs": [
    {
     "name": "stdout",
     "output_type": "stream",
     "text": [
      "Enter a number between (1-7): 5\n",
      "Friday\n"
     ]
    }
   ],
   "source": [
    "x = int(input('Enter a number between (1-7): '))\n",
    "\n",
    "if x == 1:\n",
    "    print('Monday')\n",
    "elif x == 2:\n",
    "    print('Tuesday')\n",
    "elif x == 3:\n",
    "    print('Wednesday')\n",
    "elif x == 4:\n",
    "    print('Thursday')\n",
    "elif x == 5:\n",
    "    print('Friday')\n",
    "elif x == 6:\n",
    "    print('Saturday')\n",
    "elif x == 7:\n",
    "    print('Sunday')\n",
    "else:\n",
    "    print('invalid ')"
   ]
  },
  {
   "cell_type": "code",
   "execution_count": 51,
   "id": "8533e60a",
   "metadata": {},
   "outputs": [
    {
     "name": "stdout",
     "output_type": "stream",
     "text": [
      "Enter a number between (1-7): 1\n",
      "Monday\n"
     ]
    }
   ],
   "source": [
    "x = int(input('Enter a number between (1-7): '))\n",
    "\n",
    "if x == 1:\n",
    "    print('Monday')\n",
    "elif x == 2:\n",
    "    print('Tuesday')\n",
    "elif x == 3:\n",
    "    print('Wednesday')\n",
    "elif x == 4:\n",
    "    print('Thursday')\n",
    "elif x == 5:\n",
    "    print('Friday')\n",
    "elif x == 6:\n",
    "    print('Saturday')\n",
    "elif x == 7:\n",
    "    print('Sunday')\n",
    "else:\n",
    "    print('invalid ')"
   ]
  },
  {
   "cell_type": "markdown",
   "id": "21e211dd",
   "metadata": {},
   "source": [
    "### 7. Write a program that asks the user for a number and prints \"In range\" if the number is between 10 and 20 (inclusive), and \"Out of range\" otherwise.\n"
   ]
  },
  {
   "cell_type": "code",
   "execution_count": 55,
   "id": "dcfa3e10",
   "metadata": {},
   "outputs": [
    {
     "name": "stdout",
     "output_type": "stream",
     "text": [
      "enter a number : 20\n",
      "in range\n"
     ]
    }
   ],
   "source": [
    "num = int(input('enter a number : '))\n",
    "\n",
    "if num in range(10, 21):              #if we give between 10 and 20 (inclusive) value ,it gives 'in range'\n",
    "    print('in range')\n",
    "else:                                 #otherwise all the value ,it will give 'out of range'\n",
    "    print('out of range')"
   ]
  },
  {
   "cell_type": "code",
   "execution_count": 53,
   "id": "efecf30c",
   "metadata": {},
   "outputs": [
    {
     "name": "stdout",
     "output_type": "stream",
     "text": [
      "enter a number : 22\n",
      "out of range\n"
     ]
    }
   ],
   "source": [
    "num = int(input('enter a number : '))\n",
    "\n",
    "if num in range(10, 21):              #if we give between 10 and 20 (inclusive) value ,it gives 'in range'\n",
    "    print('in range')\n",
    "else:                                 #otherwise all the value ,it will give 'out of range'\n",
    "    print('out of range')"
   ]
  },
  {
   "cell_type": "markdown",
   "id": "efdd17fc",
   "metadata": {},
   "source": [
    "### 8. Write a program that asks the user for an integer and prints whether it's even or odd."
   ]
  },
  {
   "cell_type": "code",
   "execution_count": 58,
   "id": "218179d0",
   "metadata": {},
   "outputs": [
    {
     "name": "stdout",
     "output_type": "stream",
     "text": [
      "Enter number: 495\n",
      "Odd\n"
     ]
    }
   ],
   "source": [
    "a = int(input('Enter number: '))\n",
    "\n",
    "if a % 2 == 0:\n",
    "    print('Even')\n",
    "else:\n",
    "    print('Odd')"
   ]
  },
  {
   "cell_type": "code",
   "execution_count": 59,
   "id": "da9c7660",
   "metadata": {},
   "outputs": [
    {
     "name": "stdout",
     "output_type": "stream",
     "text": [
      "Enter number: 498\n",
      "Even\n"
     ]
    }
   ],
   "source": [
    "a = int(input('Enter number: '))\n",
    "\n",
    "if a % 2 == 0:\n",
    "    print('Even')\n",
    "else:\n",
    "    print('Odd')"
   ]
  },
  {
   "cell_type": "markdown",
   "id": "4fbdceb0",
   "metadata": {},
   "source": [
    "### 16. Accept any city from the user and display the momentum of the city \n",
    "* **Hyderabad  : “charminar”**\n",
    "* **“Delhi”    : “red fort**\n",
    "* **“Agra      : Taj mahal**\n",
    "### If the city name is not given correctly, give him a warning message\n"
   ]
  },
  {
   "cell_type": "code",
   "execution_count": 61,
   "id": "9ff4ba66",
   "metadata": {},
   "outputs": [
    {
     "name": "stdout",
     "output_type": "stream",
     "text": [
      "name of the city: Delhi\n",
      "red fort\n"
     ]
    }
   ],
   "source": [
    "x = input('name of the city: ')\n",
    "\n",
    "if x == 'Hyderabad':\n",
    "    print('charminar')\n",
    "elif x == 'Delhi':\n",
    "    print('red fort')\n",
    "elif x == 'Agra':\n",
    "    print('Taj mahal')\n",
    "else:\n",
    "    print('you have given invalid command')"
   ]
  },
  {
   "cell_type": "code",
   "execution_count": 62,
   "id": "c3557847",
   "metadata": {},
   "outputs": [
    {
     "name": "stdout",
     "output_type": "stream",
     "text": [
      "name of the city: Agra\n",
      "Taj mahal\n"
     ]
    }
   ],
   "source": [
    "x = input('name of the city: ')\n",
    "\n",
    "if x == 'Hyderabad':\n",
    "    print('charminar')\n",
    "elif x == 'Delhi':\n",
    "    print('red fort')\n",
    "elif x == 'Agra':\n",
    "    print('Taj mahal')\n",
    "else:\n",
    "    print('you have given invalid command')"
   ]
  },
  {
   "cell_type": "code",
   "execution_count": 63,
   "id": "81c05204",
   "metadata": {},
   "outputs": [
    {
     "name": "stdout",
     "output_type": "stream",
     "text": [
      "name of the city: Mumbai\n",
      "you have given invalid command\n"
     ]
    }
   ],
   "source": [
    "x = input('name of the city: ')\n",
    "\n",
    "if x == 'Hyderabad':\n",
    "    print('charminar')\n",
    "elif x == 'Delhi':\n",
    "    print('red fort')\n",
    "elif x == 'Agra':\n",
    "    print('Taj mahal')\n",
    "else:\n",
    "    print('you have given invalid command')"
   ]
  },
  {
   "cell_type": "markdown",
   "id": "0e5c2f74",
   "metadata": {},
   "source": [
    "### 17. Write a program to check whether a person is eligible for voting or not  (voting age>=18)."
   ]
  },
  {
   "cell_type": "code",
   "execution_count": 64,
   "id": "588c716c",
   "metadata": {},
   "outputs": [
    {
     "name": "stdout",
     "output_type": "stream",
     "text": [
      "Enter age of a person: 17\n",
      "Not eligible for voting\n"
     ]
    }
   ],
   "source": [
    "x = int(input('Enter age of a person: '))\n",
    "\n",
    "if x >= 18:\n",
    "    print('Eligible for voting')\n",
    "else:\n",
    "    print('Not eligible for voting')"
   ]
  },
  {
   "cell_type": "code",
   "execution_count": 65,
   "id": "a2b4c16f",
   "metadata": {},
   "outputs": [
    {
     "name": "stdout",
     "output_type": "stream",
     "text": [
      "Enter age of a person: 22\n",
      "Eligible for voting\n"
     ]
    }
   ],
   "source": [
    "x = int(input('Enter age of a person: '))\n",
    "\n",
    "if x >= 18:\n",
    "    print('Eligible for voting')\n",
    "else:\n",
    "    print('Not eligible for voting')"
   ]
  },
  {
   "cell_type": "code",
   "execution_count": null,
   "id": "3859c446",
   "metadata": {},
   "outputs": [],
   "source": []
  },
  {
   "cell_type": "code",
   "execution_count": null,
   "id": "08208509",
   "metadata": {},
   "outputs": [],
   "source": []
  }
 ],
 "metadata": {
  "kernelspec": {
   "display_name": "Python 3 (ipykernel)",
   "language": "python",
   "name": "python3"
  },
  "language_info": {
   "codemirror_mode": {
    "name": "ipython",
    "version": 3
   },
   "file_extension": ".py",
   "mimetype": "text/x-python",
   "name": "python",
   "nbconvert_exporter": "python",
   "pygments_lexer": "ipython3",
   "version": "3.11.5"
  }
 },
 "nbformat": 4,
 "nbformat_minor": 5
}
